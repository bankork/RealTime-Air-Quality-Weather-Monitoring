{
 "cells": [
  {
   "cell_type": "markdown",
   "id": "6f03c611-d4ee-4597-8017-f712976b8819",
   "metadata": {},
   "source": [
    "### 1.Python script to fetch hourly AQI, temperature, humidity, and pollution levels."
   ]
  },
  {
   "cell_type": "code",
   "execution_count": 4,
   "id": "ed746c4b-b3bc-473e-93d0-5beffe9bb4cc",
   "metadata": {},
   "outputs": [],
   "source": [
    "import pandas as pd\n",
    "import requests\n",
    "import time\n",
    "import datetime"
   ]
  },
  {
   "cell_type": "code",
   "execution_count": 3,
   "id": "853401c5-0590-4d20-b10f-e973fe6a309e",
   "metadata": {},
   "outputs": [],
   "source": [
    "##CITY = \"Lagos\"\n",
    "##LAT = 6.5244,\n",
    "##LON = 3.3792\n",
    "##API_KEY = 915cbda089714672f9fa8cc2ef1cb053"
   ]
  },
  {
   "cell_type": "code",
   "execution_count": 2,
   "id": "f21fdde0-0ebb-4eae-b180-b888d26680a4",
   "metadata": {},
   "outputs": [],
   "source": [
    "url = \"http://api.openweathermap.org/data/2.5/weather?q=Lagos&appid=915cbda089714672f9fa8cc2ef1cb053\"\n",
    "url = \"http://api.openweathermap.org/data/2.5/air_pollution?lat={\"6.5244\"}&lon={\"3.3792\"}&appid={\"915cbda089714672f9fa8cc2ef1cb053\"}\""
   ]
  },
  {
   "cell_type": "code",
   "execution_count": 37,
   "id": "dcd9743c-28ac-4714-8756-24044873e97f",
   "metadata": {},
   "outputs": [
    {
     "name": "stdout",
     "output_type": "stream",
     "text": [
      "{'city': 'Lagos', 'temp_c': 23.03, 'humidity': 91, 'timestamp': '2025-08-19T23:03:25.784875'}\n"
     ]
    }
   ],
   "source": [
    "def fetch_weather():  \n",
    "    \"\"\"Fetch current weather data (temperature & humidity)\"\"\"\n",
    "    url = f\"http://api.openweathermap.org/data/2.5/weather?q={\"Lagos\"}&appid={\"915cbda089714672f9fa8cc2ef1cb053\"}&units=metric\"\n",
    "    res = requests.get(url).json()\n",
    "\n",
    "    return{\n",
    "        \"city\": res[\"name\"],\n",
    "        \"temp_c\": res[\"main\"][\"temp\"],\n",
    "        \"humidity\": res[\"main\"][\"humidity\"],\n",
    "        \"timestamp\": datetime.datetime.now().isoformat()\n",
    "\n",
    "    }\n",
    "\n",
    "weather = fetch_weather()\n",
    "print(weather)\n"
   ]
  },
  {
   "cell_type": "code",
   "execution_count": null,
   "id": "d22f4450-d585-4aec-9c24-37a20b3de366",
   "metadata": {},
   "outputs": [],
   "source": [
    "### AQI stands for Air Quality Index = \n",
    "### An AQI of 50 or below (green) is generally considered good, while an AQI above 100 indicates unhealthy conditions"
   ]
  },
  {
   "cell_type": "code",
   "execution_count": 39,
   "id": "562a3fd0-a551-4a2f-b358-16659957265d",
   "metadata": {},
   "outputs": [
    {
     "name": "stdout",
     "output_type": "stream",
     "text": [
      "{'aqi': 1, 'pm2_5': 1.78, 'pm10': 6.46, 'o3': 34.13, 'co': 155.55, 'timestamp': '2025-08-19T23:16:44.602248'}\n"
     ]
    }
   ],
   "source": [
    "def fetch_aqi():\n",
    "    \"\"\"Fetch current air quality index + pollutants\"\"\"\n",
    "    url = f\"http://api.openweathermap.org/data/2.5/air_pollution?lat={\"6.5244\"}&lon={\"3.3792\"}&appid={\"915cbda089714672f9fa8cc2ef1cb053\"}\"\n",
    "    res = requests.get(url).json()\n",
    "    data = res[\"list\"][0]\n",
    "    \n",
    "    return {\n",
    "        \"aqi\": data[\"main\"][\"aqi\"],   # 1=Good, 2=Fair, 3=Moderate, 4=Poor, 5=Very Poor\n",
    "        \"pm2_5\": data[\"components\"][\"pm2_5\"],\n",
    "        \"pm10\": data[\"components\"][\"pm10\"],\n",
    "        \"o3\": data[\"components\"][\"o3\"],\n",
    "        \"co\": data[\"components\"][\"co\"],\n",
    "        \"timestamp\": datetime.datetime.now().isoformat()\n",
    "    }\n",
    "\n",
    "aqi = fetch_aqi()\n",
    "print(fetch_aqi())"
   ]
  },
  {
   "cell_type": "code",
   "execution_count": 40,
   "id": "91d240a5-d79c-4f93-8593-16d2d1c1496c",
   "metadata": {},
   "outputs": [],
   "source": [
    "### fetch Hourly in Intervals (3600 seconds = 1 hour)"
   ]
  },
  {
   "cell_type": "code",
   "execution_count": null,
   "id": "1126dd37-3200-4b45-a215-78f6e39fff5e",
   "metadata": {},
   "outputs": [],
   "source": [
    "def collect_hourly_data(interval=3):\n",
    "    \"\"\"Collect weather + AQI every few seconds (default=3)\"\"\"\n",
    "    while True:\n",
    "        weather = fetch_weather()\n",
    "        aqi = fetch_aqi()\n",
    "        \n",
    "        record = {\n",
    "            \"city\": weather[\"city\"],\n",
    "            \"temp_c\": weather[\"temp_c\"],\n",
    "            \"humidity\": weather[\"humidity\"],\n",
    "            \"aqi\": aqi[\"aqi\"],\n",
    "            \"pm2_5\": aqi[\"pm2_5\"],\n",
    "            \"pm10\": aqi[\"pm10\"],\n",
    "            \"o3\": aqi[\"o3\"],\n",
    "            \"co\": aqi[\"co\"],\n",
    "            \"timestamp\": weather[\"timestamp\"]\n",
    "        }\n",
    "        print(record)\n",
    "        time.sleep(interval)\n",
    "\n",
    "collect_hourly_data(interval=3)"
   ]
  },
  {
   "cell_type": "markdown",
   "id": "3866510b-c435-4b40-a498-d5cf698fc6c4",
   "metadata": {},
   "source": [
    "### FINAL RESULT (SINGLE LOOP)"
   ]
  },
  {
   "cell_type": "code",
   "execution_count": 7,
   "id": "1aad3b1e-55a2-41bc-b010-aee112e09eb8",
   "metadata": {},
   "outputs": [
    {
     "name": "stdout",
     "output_type": "stream",
     "text": [
      "{'city': 'Lagos', 'temp_c': 27.62, 'humidity': 69, 'timestamp': '2025-08-22T11:28:00.664267'}\n",
      "{'aqi': 1, 'pm2_5': 3.58, 'pm10': 13.06, 'o3': 47.21, 'co': 256.13, 'timestamp': '2025-08-22T11:28:02.556440'}\n"
     ]
    }
   ],
   "source": [
    "def fetch_weather():  \n",
    "    \"\"\"Fetch current weather data (temperature & humidity)\"\"\"\n",
    "    url = f\"http://api.openweathermap.org/data/2.5/weather?q={\"Lagos\"}&appid={\"f2d87e47b5cc7656fdde646e4ea16224\"}&units=metric\"\n",
    "    res = requests.get(url).json()\n",
    "\n",
    "    return{\n",
    "        \"city\": res[\"name\"],\n",
    "        \"temp_c\": res[\"main\"][\"temp\"],\n",
    "        \"humidity\": res[\"main\"][\"humidity\"],\n",
    "        \"timestamp\": datetime.datetime.now().isoformat()\n",
    "\n",
    "    }\n",
    "\n",
    "def fetch_aqi():\n",
    "    \"\"\"Fetch current air quality index + pollutants\"\"\"\n",
    "    url = f\"http://api.openweathermap.org/data/2.5/air_pollution?lat={\"6.5244\"}&lon={\"3.3792\"}&appid={\"f2d87e47b5cc7656fdde646e4ea16224\"}\"\n",
    "    res = requests.get(url).json()\n",
    "    data = res[\"list\"][0]\n",
    "    \n",
    "    return {\n",
    "        \"aqi\": data[\"main\"][\"aqi\"],   # 1=Good, 2=Fair, 3=Moderate, 4=Poor, 5=Very Poor\n",
    "        \"pm2_5\": data[\"components\"][\"pm2_5\"],\n",
    "        \"pm10\": data[\"components\"][\"pm10\"],\n",
    "        \"o3\": data[\"components\"][\"o3\"],\n",
    "        \"co\": data[\"components\"][\"co\"],\n",
    "        \"timestamp\": datetime.datetime.now().isoformat()\n",
    "    }\n",
    "\n",
    "weather = fetch_weather()\n",
    "aqi = fetch_aqi()\n",
    "print(weather)\n",
    "print(fetch_aqi())"
   ]
  },
  {
   "cell_type": "code",
   "execution_count": null,
   "id": "b5c20030-a45b-4a4b-9146-59d77650f34c",
   "metadata": {},
   "outputs": [],
   "source": []
  },
  {
   "cell_type": "markdown",
   "id": "20dcddf8-b325-41a2-824b-692b8f6e508b",
   "metadata": {},
   "source": [
    "### 2.AQI Categories and Detecting Spikes"
   ]
  },
  {
   "cell_type": "code",
   "execution_count": 1,
   "id": "354f9acf-9bd6-43c0-a8fa-c7f9eaf1ebc0",
   "metadata": {},
   "outputs": [],
   "source": [
    "###AQI scale is simple:\n",
    "\n",
    "#AQI Value\tCategory\n",
    "#1\t         Good\n",
    "#2\t         Fair\n",
    "#3\t        Moderate\n",
    "#4\t        Poor\n",
    "#5\t        Very Poor"
   ]
  },
  {
   "cell_type": "code",
   "execution_count": 9,
   "id": "f7ca5ee9-98ad-496e-adff-2102a4ef89e0",
   "metadata": {},
   "outputs": [],
   "source": [
    "def categorize_aqi(aqi_value):\n",
    "    categories = {\n",
    "        1: \"Good\",\n",
    "        2: \"Fair\",\n",
    "        3: \"Moderate\",\n",
    "        4: \"Poor\",\n",
    "        5: \"Very Poor\"\n",
    "    }\n",
    "    return categories.get(aqi_value, \"Unknown\")\n",
    "\n",
    "\n",
    "def detect_spikes(current, previous, threshold=20):\n",
    "    \"\"\"\n",
    "    Detect spikes in pollutants.\n",
    "    threshold = % increase (default 20%)\n",
    "    \"\"\"\n",
    "    spikes = {}\n",
    "    for key in [\"pm2_5\", \"pm10\", \"o3\", \"co\"]:\n",
    "        if previous and previous.get(key, 0) > 0: \n",
    "            change = ((current[key] - previous[key]) / previous[key]) * 100\n",
    "            if change >= threshold:\n",
    "                spikes[key] = round(change, 2)\n",
    "    return spikes"
   ]
  },
  {
   "cell_type": "code",
   "execution_count": 10,
   "id": "80bcea14-421b-4c99-88f6-8598e38e44f0",
   "metadata": {},
   "outputs": [
    {
     "name": "stdout",
     "output_type": "stream",
     "text": [
      "AQI Category: Good\n",
      "Spikes detected: {'pm2_5': 101.12, 'pm10': 102.17, 'o3': 38.32, 'co': 64.66}\n"
     ]
    }
   ],
   "source": [
    "previous_record = {\n",
    "    \"pm2_5\": 1.78, \"pm10\": 6.46, \"o3\": 34.13, \"co\": 155.55\n",
    "}\n",
    "current_record = {\n",
    "    \"pm2_5\": 3.58, \"pm10\": 13.06, \"o3\": 47.21, \"co\": 256.13\n",
    "}\n",
    "\n",
    "# Categorize AQI\n",
    "\n",
    "aqi_value = 1\n",
    "category = categorize_aqi(aqi_value)\n",
    "print(\"AQI Category:\", category)\n",
    "\n",
    "# Detect spikes\n",
    "\n",
    "spikes = detect_spikes(current_record, previous_record, threshold=30)\n",
    "print(\"Spikes detected:\", spikes)"
   ]
  },
  {
   "cell_type": "code",
   "execution_count": null,
   "id": "7de2cb88-91b5-4b96-b1d4-5da4f6a97298",
   "metadata": {},
   "outputs": [],
   "source": []
  },
  {
   "cell_type": "markdown",
   "id": "92d59fde-f687-43d3-afcd-69256d1df78a",
   "metadata": {},
   "source": [
    "### LOAD INTO postgreSQL"
   ]
  },
  {
   "cell_type": "code",
   "execution_count": 11,
   "id": "0473cb01-6489-4782-ae3f-9680f1c70234",
   "metadata": {},
   "outputs": [],
   "source": [
    "import psycopg2\n",
    "from psycopg2.extras import RealDictCursor"
   ]
  },
  {
   "cell_type": "code",
   "execution_count": 17,
   "id": "b444ce4b-d8f5-42fd-a3e8-673d83238d35",
   "metadata": {},
   "outputs": [],
   "source": [
    "def get_connection():\n",
    "    return psycopg2.connect(\n",
    "        host=\"localhost\",\n",
    "        database=\"First_ETL\",   \n",
    "        user=\"postgres\",           \n",
    "        password=\"\",\n",
    "        port=5432,\n",
    "    )"
   ]
  },
  {
   "cell_type": "code",
   "execution_count": 18,
   "id": "e37a94aa-3bd1-4640-aaed-7a517b60e146",
   "metadata": {},
   "outputs": [],
   "source": [
    "def insert_reading(record):\n",
    "    conn = get_connection()\n",
    "    cur = conn.cursor()\n",
    "    query = \"\"\"\n",
    "    INSERT INTO sensor_readings \n",
    "    (city, temperature_c, humidity, aqi, aqi_category, pm2_5, pm10, o3, co, recorded_at)\n",
    "    VALUES (%s, %s, %s, %s, %s, %s, %s, %s, %s, %s)\n",
    "    RETURNING id;\n",
    "    \"\"\"\n",
    "    cur.execute(query, (\n",
    "        record[\"city\"], record[\"temp_c\"], record[\"humidity\"], \n",
    "        record[\"aqi\"], record[\"aqi_category\"],\n",
    "        record[\"pm2_5\"], record[\"pm10\"], record[\"o3\"], record[\"co\"], \n",
    "        record[\"timestamp\"]\n",
    "    ))\n",
    "    reading_id = cur.fetchone()[0]\n",
    "    conn.commit()\n",
    "    cur.close()\n",
    "    conn.close()\n",
    "    return reading_id\n",
    "\n",
    "\n",
    "def insert_alert(reading_id, alert):\n",
    "    conn = get_connection()\n",
    "    cur = conn.cursor()\n",
    "    query = \"\"\"\n",
    "    INSERT INTO alerts \n",
    "    (reading_id, alert_type, parameter, old_value, new_value, change_percent, message)\n",
    "    VALUES (%s, %s, %s, %s, %s, %s, %s);\n",
    "    \"\"\"\n",
    "    cur.execute(query, (\n",
    "        reading_id, \n",
    "        alert[\"alert_type\"], \n",
    "        alert[\"parameter\"], \n",
    "        alert[\"old_value\"], \n",
    "        alert[\"new_value\"], \n",
    "        alert[\"change_percent\"], \n",
    "        alert[\"message\"]\n",
    "    ))\n",
    "    conn.commit()\n",
    "    cur.close()\n",
    "    conn.close()"
   ]
  },
  {
   "cell_type": "code",
   "execution_count": null,
   "id": "742a507f-aa13-4a83-85ac-facc6848b66a",
   "metadata": {},
   "outputs": [],
   "source": []
  },
  {
   "cell_type": "code",
   "execution_count": 23,
   "id": "dcc0b9f2-a5cd-41ce-88bc-1a873bbde40b",
   "metadata": {},
   "outputs": [
    {
     "name": "stdout",
     "output_type": "stream",
     "text": [
      "✅ DB Connected. Time: (datetime.datetime(2025, 8, 22, 13, 32, 47, 336959, tzinfo=datetime.timezone(datetime.timedelta(seconds=3600))),)\n"
     ]
    }
   ],
   "source": [
    "import psycopg2\n",
    "\n",
    "def get_connection():\n",
    "    return psycopg2.connect(\n",
    "        host=\"localhost\",\n",
    "        database=\"First_ETL\", \n",
    "        user=\"postgres\",            \n",
    "        password=\"Pastore9717\",\n",
    "        port=5432\n",
    "    );\n",
    "try:\n",
    "    conn = get_connection()\n",
    "    cur = conn.cursor()\n",
    "    cur.execute(\"SELECT NOW();\")\n",
    "    print(\"✅ DB Connected. Time:\", cur.fetchone())\n",
    "    cur.close()\n",
    "    conn.close()\n",
    "except Exception as e:\n",
    "    print(\"❌ DB Error:\", e)"
   ]
  },
  {
   "cell_type": "code",
   "execution_count": null,
   "id": "5d2102c5-f87c-45f6-8f61-d032f87ef7f5",
   "metadata": {},
   "outputs": [],
   "source": []
  }
 ],
 "metadata": {
  "kernelspec": {
   "display_name": "Python 3 (ipykernel)",
   "language": "python",
   "name": "python3"
  },
  "language_info": {
   "codemirror_mode": {
    "name": "ipython",
    "version": 3
   },
   "file_extension": ".py",
   "mimetype": "text/x-python",
   "name": "python",
   "nbconvert_exporter": "python",
   "pygments_lexer": "ipython3",
   "version": "3.12.7"
  }
 },
 "nbformat": 4,
 "nbformat_minor": 5
}
